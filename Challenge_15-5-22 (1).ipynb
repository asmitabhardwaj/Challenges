{
 "cells": [
  {
   "cell_type": "code",
   "execution_count": 2,
   "id": "bee86b4e",
   "metadata": {},
   "outputs": [
    {
     "data": {
      "text/plain": [
       "'h   r tnrrmglsnimengyosi dtfco'"
      ]
     },
     "execution_count": 2,
     "metadata": {},
     "output_type": "execute_result"
    }
   ],
   "source": [
    "s = \"this is My First Python programming class and i am learning python string and its function\"\n",
    "#1 . Try to extract data from index one to index 300 with a jump of 3\n",
    "s[1:300:3]"
   ]
  },
  {
   "cell_type": "code",
   "execution_count": 3,
   "id": "9801f625",
   "metadata": {},
   "outputs": [
    {
     "data": {
      "text/plain": [
       "'noitcnuf sti dna gnirts nohtyp gninrael ma i dna ssalc gnimmargorp nohtyP tsriF yM si siht'"
      ]
     },
     "execution_count": 3,
     "metadata": {},
     "output_type": "execute_result"
    }
   ],
   "source": [
    "#2.Try to reverse a string without using reverse function \n",
    "s[-1:-100:-1]"
   ]
  },
  {
   "cell_type": "code",
   "execution_count": 5,
   "id": "bc129c27",
   "metadata": {},
   "outputs": [
    {
     "data": {
      "text/plain": [
       "'THIS IS MY FIRST PYTHON PROGRAMMING CLASS AND I AM LEARNING PYTHON STRING AND ITS FUNCTION'"
      ]
     },
     "execution_count": 5,
     "metadata": {},
     "output_type": "execute_result"
    }
   ],
   "source": [
    "#3. Try to split a string after conversion of entire string in uppercase \n",
    "s2=s.upper()\n",
    "s2"
   ]
  },
  {
   "cell_type": "code",
   "execution_count": 6,
   "id": "6aac70bd",
   "metadata": {},
   "outputs": [
    {
     "data": {
      "text/plain": [
       "['THIS',\n",
       " 'IS',\n",
       " 'MY',\n",
       " 'FIRST',\n",
       " 'PYTHON',\n",
       " 'PROGRAMMING',\n",
       " 'CLASS',\n",
       " 'AND',\n",
       " 'I',\n",
       " 'AM',\n",
       " 'LEARNING',\n",
       " 'PYTHON',\n",
       " 'STRING',\n",
       " 'AND',\n",
       " 'ITS',\n",
       " 'FUNCTION']"
      ]
     },
     "execution_count": 6,
     "metadata": {},
     "output_type": "execute_result"
    }
   ],
   "source": [
    "s2.split()"
   ]
  },
  {
   "cell_type": "code",
   "execution_count": 7,
   "id": "8daa7f42",
   "metadata": {},
   "outputs": [
    {
     "data": {
      "text/plain": [
       "'this is my first python programming class and i am learning python string and its function'"
      ]
     },
     "execution_count": 7,
     "metadata": {},
     "output_type": "execute_result"
    }
   ],
   "source": [
    "#4. try to convert the whole string into lower case \n",
    "s.lower()"
   ]
  },
  {
   "cell_type": "code",
   "execution_count": 8,
   "id": "04a879f2",
   "metadata": {},
   "outputs": [
    {
     "data": {
      "text/plain": [
       "'This is my first python programming class and i am learning python string and its function'"
      ]
     },
     "execution_count": 8,
     "metadata": {},
     "output_type": "execute_result"
    }
   ],
   "source": [
    "#5.Try to capitalize the whole string \n",
    "s.capitalize()"
   ]
  },
  {
   "cell_type": "code",
   "execution_count": 20,
   "id": "fa50f816",
   "metadata": {},
   "outputs": [
    {
     "data": {
      "text/plain": [
       "False"
      ]
     },
     "execution_count": 20,
     "metadata": {},
     "output_type": "execute_result"
    }
   ],
   "source": [
    "#6. Write a diference between isalnum() and isalpha()\n",
    "# In python isalpha() function is used to find out if the string only contains letters or not .\n",
    "#Isalnum() function is used to find out if the string contains alphanumeric characters without any symbols.\n",
    "#Example\n",
    "K=\"asjnnjk3\"\n",
    "K.isalpha()"
   ]
  },
  {
   "cell_type": "code",
   "execution_count": 21,
   "id": "09328732",
   "metadata": {},
   "outputs": [
    {
     "data": {
      "text/plain": [
       "True"
      ]
     },
     "execution_count": 21,
     "metadata": {},
     "output_type": "execute_result"
    }
   ],
   "source": [
    "#6\n",
    "K=\"asjnnjk3\"\n",
    "K.isalnum()"
   ]
  },
  {
   "cell_type": "code",
   "execution_count": 9,
   "id": "03b4ef8b",
   "metadata": {},
   "outputs": [
    {
     "data": {
      "text/plain": [
       "'Asmita  is new  to python.'"
      ]
     },
     "execution_count": 9,
     "metadata": {},
     "output_type": "execute_result"
    }
   ],
   "source": [
    "#7. Try to give an example of expand tab\n",
    "s3=\"Asmita\\tis new\\tto python.\"\n",
    "s3.expandtabs()"
   ]
  },
  {
   "cell_type": "code",
   "execution_count": 11,
   "id": "a7e605d0",
   "metadata": {},
   "outputs": [
    {
     "data": {
      "text/plain": [
       "'This is our first python assignment'"
      ]
     },
     "execution_count": 11,
     "metadata": {},
     "output_type": "execute_result"
    }
   ],
   "source": [
    "#8 . Give an example of strip , lstrip and rstrip \n",
    "S4=\"    This is our first python assignment  \"\n",
    "S4.strip()"
   ]
  },
  {
   "cell_type": "code",
   "execution_count": 12,
   "id": "df6e03d1",
   "metadata": {},
   "outputs": [
    {
     "data": {
      "text/plain": [
       "'    This is our first python assignment'"
      ]
     },
     "execution_count": 12,
     "metadata": {},
     "output_type": "execute_result"
    }
   ],
   "source": [
    "#8 . Give an example of strip , lstrip and rstrip \n",
    "S4.rstrip()"
   ]
  },
  {
   "cell_type": "code",
   "execution_count": 14,
   "id": "6780baed",
   "metadata": {},
   "outputs": [
    {
     "data": {
      "text/plain": [
       "'This is our first python assignment  '"
      ]
     },
     "execution_count": 14,
     "metadata": {},
     "output_type": "execute_result"
    }
   ],
   "source": [
    "#8 . Give an example of strip , lstrip and rstrip\n",
    "S4.lstrip()"
   ]
  },
  {
   "cell_type": "code",
   "execution_count": 16,
   "id": "a7f7a249",
   "metadata": {},
   "outputs": [
    {
     "data": {
      "text/plain": [
       "'Anmita'"
      ]
     },
     "execution_count": 16,
     "metadata": {},
     "output_type": "execute_result"
    }
   ],
   "source": [
    "#9.  Replace a string charecter by another charector by taking your own example \n",
    "a=\"Asmita\"\n",
    "a.replace('s','n',1)"
   ]
  },
  {
   "cell_type": "code",
   "execution_count": 17,
   "id": "ec50f382",
   "metadata": {},
   "outputs": [
    {
     "data": {
      "text/plain": [
       "'$$Class$$$'"
      ]
     },
     "execution_count": 17,
     "metadata": {},
     "output_type": "execute_result"
    }
   ],
   "source": [
    "#10 . Try  to give a defination of string center function with and exmple \n",
    "# Ans- Center function is used to add padding in any string with specified character,it takes space as a default filler.\n",
    "C=\"Class\"\n",
    "C.center(10,\"$\")"
   ]
  },
  {
   "cell_type": "code",
   "execution_count": null,
   "id": "4ac6c27b",
   "metadata": {},
   "outputs": [],
   "source": [
    "#11 . Write your own definition of compiler and interpretor without copy paste form internet in your own language\n",
    "\"\"\"A compiler reads a program written in high level language and converts it in low level language.It translates program in single run.So it consumes less time and more cPU space.It is supported by C++,C.\"\"\"\n",
    "\"\"\"An interpreter executes a programming language directly instead of converting it in any other language .it translates and executes line by line.It consumes more time as compared to compiler but CPU utilization is less.It is used in Java\""
   ]
  },
  {
   "cell_type": "code",
   "execution_count": null,
   "id": "a3aa9193",
   "metadata": {},
   "outputs": [],
   "source": [
    "#12 . Python is a interpreted of compiled language give a clear ans with your understanding \n",
    "\n",
    "#Python is an interpreted language as it executes the program in line by line order and it is compiled language as well as when we save our code it creates a .py extension file which  is \n",
    "#nothing but the byte code for our program .So, we can say that Python is the combination of both compiler and interpreted language"
   ]
  },
  {
   "cell_type": "code",
   "execution_count": null,
   "id": "50da95f0",
   "metadata": {},
   "outputs": [],
   "source": [
    "#13 . Try to write a usecase of python with your understanding .\n",
    "#Python is a  fascinating programming language which is used in various areas like in  Application developement,Data Science,Artificial Intelligence , game developement and many more."
   ]
  }
 ],
 "metadata": {
  "kernelspec": {
   "display_name": "Python 3",
   "language": "python",
   "name": "python3"
  },
  "language_info": {
   "codemirror_mode": {
    "name": "ipython",
    "version": 3
   },
   "file_extension": ".py",
   "mimetype": "text/x-python",
   "name": "python",
   "nbconvert_exporter": "python",
   "pygments_lexer": "ipython3",
   "version": "3.8.8"
  }
 },
 "nbformat": 4,
 "nbformat_minor": 5
}
