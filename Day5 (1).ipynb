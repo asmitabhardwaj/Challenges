{
 "cells": [
  {
   "cell_type": "code",
   "execution_count": 11,
   "id": "c0f5c354",
   "metadata": {},
   "outputs": [
    {
     "name": "stdout",
     "output_type": "stream",
     "text": [
      "2\n",
      "3\n",
      "5\n",
      "7\n",
      "11\n",
      "13\n",
      "17\n",
      "19\n",
      "23\n",
      "29\n",
      "31\n",
      "37\n",
      "41\n",
      "43\n",
      "47\n",
      "53\n",
      "59\n",
      "61\n",
      "67\n",
      "71\n",
      "73\n",
      "79\n",
      "83\n",
      "89\n",
      "97\n",
      "101\n",
      "103\n",
      "107\n",
      "109\n",
      "113\n",
      "127\n",
      "131\n",
      "137\n",
      "139\n",
      "149\n",
      "151\n",
      "157\n",
      "163\n",
      "167\n",
      "173\n",
      "179\n",
      "181\n",
      "191\n",
      "193\n",
      "197\n",
      "199\n",
      "211\n",
      "223\n",
      "227\n",
      "229\n",
      "233\n",
      "239\n",
      "241\n",
      "251\n",
      "257\n",
      "263\n",
      "269\n",
      "271\n",
      "277\n",
      "281\n",
      "283\n",
      "293\n",
      "307\n",
      "311\n",
      "313\n",
      "317\n",
      "331\n",
      "337\n",
      "347\n",
      "349\n",
      "353\n",
      "359\n",
      "367\n",
      "373\n",
      "379\n",
      "383\n",
      "389\n",
      "397\n",
      "401\n",
      "409\n",
      "419\n",
      "421\n",
      "431\n",
      "433\n",
      "439\n",
      "443\n",
      "449\n",
      "457\n",
      "461\n",
      "463\n",
      "467\n",
      "479\n",
      "487\n",
      "491\n",
      "499\n",
      "503\n",
      "509\n",
      "521\n",
      "523\n",
      "541\n",
      "547\n",
      "557\n",
      "563\n",
      "569\n",
      "571\n",
      "577\n",
      "587\n",
      "593\n",
      "599\n",
      "601\n",
      "607\n",
      "613\n",
      "617\n",
      "619\n",
      "631\n",
      "641\n",
      "643\n",
      "647\n",
      "653\n",
      "659\n",
      "661\n",
      "673\n",
      "677\n",
      "683\n",
      "691\n",
      "701\n",
      "709\n",
      "719\n",
      "727\n",
      "733\n",
      "739\n",
      "743\n",
      "751\n",
      "757\n",
      "761\n",
      "769\n",
      "773\n",
      "787\n",
      "797\n",
      "809\n",
      "811\n",
      "821\n",
      "823\n",
      "827\n",
      "829\n",
      "839\n",
      "853\n",
      "857\n",
      "859\n",
      "863\n",
      "877\n",
      "881\n",
      "883\n",
      "887\n",
      "907\n",
      "911\n",
      "919\n",
      "929\n",
      "937\n",
      "941\n",
      "947\n",
      "953\n",
      "967\n",
      "971\n",
      "977\n",
      "983\n",
      "991\n",
      "997\n"
     ]
    }
   ],
   "source": [
    "#q1 : Try to print a prime number in between 1 to 1000\n",
    "\n",
    "for i in range(1,1000):\n",
    "    if i>1:\n",
    "        for j in range(2,i):\n",
    "            if (i%j) == 0:\n",
    "                break\n",
    "        else:\n",
    "            print(i)"
   ]
  },
  {
   "cell_type": "code",
   "execution_count": 9,
   "id": "e633bb37",
   "metadata": {},
   "outputs": [],
   "source": [
    "#q2 : Try to write a function which  is equivalent  to print function in python\n",
    "def traverse(*args):\n",
    "    return args"
   ]
  },
  {
   "cell_type": "code",
   "execution_count": 10,
   "id": "7b27f14d",
   "metadata": {},
   "outputs": [
    {
     "data": {
      "text/plain": [
       "(2, 4, 6, 7, 8, [2, 3])"
      ]
     },
     "execution_count": 10,
     "metadata": {},
     "output_type": "execute_result"
    }
   ],
   "source": [
    "traverse(2,4,6,7,8,[2,3])"
   ]
  },
  {
   "cell_type": "code",
   "execution_count": 13,
   "id": "ed427b14",
   "metadata": {},
   "outputs": [],
   "source": [
    "#q3 : Try to write a function which is a replica of list append , extend and pop function \n",
    "#replica of append\n",
    "def append1(l1,*x):\n",
    "    return l1+[*x]"
   ]
  },
  {
   "cell_type": "code",
   "execution_count": 14,
   "id": "6aaf93db",
   "metadata": {},
   "outputs": [
    {
     "data": {
      "text/plain": [
       "[1, 3, 5, 2, 4, 'as']"
      ]
     },
     "execution_count": 14,
     "metadata": {},
     "output_type": "execute_result"
    }
   ],
   "source": [
    "append1([1,3,5],2,4,\"as\")"
   ]
  },
  {
   "cell_type": "code",
   "execution_count": 15,
   "id": "255e9b68",
   "metadata": {},
   "outputs": [],
   "source": [
    "# replica of extend function\n",
    "def extend1(l1,l2):\n",
    "    return list(l1)+list(l2)"
   ]
  },
  {
   "cell_type": "code",
   "execution_count": 16,
   "id": "72b9048b",
   "metadata": {},
   "outputs": [
    {
     "data": {
      "text/plain": [
       "[2, 7, 'well', 'yes', 'asmita']"
      ]
     },
     "execution_count": 16,
     "metadata": {},
     "output_type": "execute_result"
    }
   ],
   "source": [
    "extend1([2,7],['well',\"yes\",\"asmita\"])"
   ]
  },
  {
   "cell_type": "code",
   "execution_count": null,
   "id": "9b9702a5",
   "metadata": {},
   "outputs": [],
   "source": [
    "#for pop function\n",
    "def pop1(l3,*x):\n",
    "    return(l3.remove(*x))"
   ]
  },
  {
   "cell_type": "code",
   "execution_count": 17,
   "id": "dd7f6521",
   "metadata": {},
   "outputs": [
    {
     "ename": "NameError",
     "evalue": "name 'pop1' is not defined",
     "output_type": "error",
     "traceback": [
      "\u001b[1;31m---------------------------------------------------------------------------\u001b[0m",
      "\u001b[1;31mNameError\u001b[0m                                 Traceback (most recent call last)",
      "\u001b[1;32m<ipython-input-17-b5dfbc766d55>\u001b[0m in \u001b[0;36m<module>\u001b[1;34m\u001b[0m\n\u001b[1;32m----> 1\u001b[1;33m \u001b[0mpop1\u001b[0m\u001b[1;33m(\u001b[0m\u001b[1;33m[\u001b[0m\u001b[1;36m2\u001b[0m\u001b[1;33m,\u001b[0m\u001b[1;36m4\u001b[0m\u001b[1;33m,\u001b[0m\u001b[1;36m6\u001b[0m\u001b[1;33m,\u001b[0m\u001b[1;36m7\u001b[0m\u001b[1;33m,\u001b[0m\u001b[1;36m8\u001b[0m\u001b[1;33m,\u001b[0m\u001b[1;36m9\u001b[0m\u001b[1;33m,\u001b[0m\u001b[1;34m\"asm\"\u001b[0m\u001b[1;33m]\u001b[0m\u001b[1;33m,\u001b[0m\u001b[1;36m2\u001b[0m\u001b[1;33m)\u001b[0m\u001b[1;33m\u001b[0m\u001b[1;33m\u001b[0m\u001b[0m\n\u001b[0m",
      "\u001b[1;31mNameError\u001b[0m: name 'pop1' is not defined"
     ]
    }
   ],
   "source": [
    "pop1([2,4,6,7,8,9,\"asm\"],2)"
   ]
  },
  {
   "cell_type": "code",
   "execution_count": null,
   "id": "a6010931",
   "metadata": {},
   "outputs": [],
   "source": [
    "#q4 : Try to write a lambda function which can return a concatination of all the string that we will\n",
    "concat=lambda *args: \"\".join([i for i in args])"
   ]
  },
  {
   "cell_type": "code",
   "execution_count": 31,
   "id": "726a3e64",
   "metadata": {},
   "outputs": [
    {
     "data": {
      "text/plain": [
       "'asmitakumari'"
      ]
     },
     "execution_count": 31,
     "metadata": {},
     "output_type": "execute_result"
    }
   ],
   "source": [
    "concat(\"asm\",\"ita\",\"kum\",\"ari\")"
   ]
  },
  {
   "cell_type": "code",
   "execution_count": 32,
   "id": "73b7ad83",
   "metadata": {},
   "outputs": [],
   "source": [
    "#q5 : Try to write a lambda function which can return list of square of all the data between 1-100 \n",
    "n=lambda x:[i**2 for i in x]"
   ]
  },
  {
   "cell_type": "code",
   "execution_count": 33,
   "id": "7c82bc5d",
   "metadata": {},
   "outputs": [
    {
     "data": {
      "text/plain": [
       "[0,\n",
       " 1,\n",
       " 4,\n",
       " 9,\n",
       " 16,\n",
       " 25,\n",
       " 36,\n",
       " 49,\n",
       " 64,\n",
       " 81,\n",
       " 100,\n",
       " 121,\n",
       " 144,\n",
       " 169,\n",
       " 196,\n",
       " 225,\n",
       " 256,\n",
       " 289,\n",
       " 324,\n",
       " 361,\n",
       " 400,\n",
       " 441,\n",
       " 484,\n",
       " 529,\n",
       " 576,\n",
       " 625,\n",
       " 676,\n",
       " 729,\n",
       " 784,\n",
       " 841,\n",
       " 900,\n",
       " 961,\n",
       " 1024,\n",
       " 1089,\n",
       " 1156,\n",
       " 1225,\n",
       " 1296,\n",
       " 1369,\n",
       " 1444,\n",
       " 1521,\n",
       " 1600,\n",
       " 1681,\n",
       " 1764,\n",
       " 1849,\n",
       " 1936,\n",
       " 2025,\n",
       " 2116,\n",
       " 2209,\n",
       " 2304,\n",
       " 2401,\n",
       " 2500,\n",
       " 2601,\n",
       " 2704,\n",
       " 2809,\n",
       " 2916,\n",
       " 3025,\n",
       " 3136,\n",
       " 3249,\n",
       " 3364,\n",
       " 3481,\n",
       " 3600,\n",
       " 3721,\n",
       " 3844,\n",
       " 3969,\n",
       " 4096,\n",
       " 4225,\n",
       " 4356,\n",
       " 4489,\n",
       " 4624,\n",
       " 4761,\n",
       " 4900,\n",
       " 5041,\n",
       " 5184,\n",
       " 5329,\n",
       " 5476,\n",
       " 5625,\n",
       " 5776,\n",
       " 5929,\n",
       " 6084,\n",
       " 6241,\n",
       " 6400,\n",
       " 6561,\n",
       " 6724,\n",
       " 6889,\n",
       " 7056,\n",
       " 7225,\n",
       " 7396,\n",
       " 7569,\n",
       " 7744,\n",
       " 7921,\n",
       " 8100,\n",
       " 8281,\n",
       " 8464,\n",
       " 8649,\n",
       " 8836,\n",
       " 9025,\n",
       " 9216,\n",
       " 9409,\n",
       " 9604,\n",
       " 9801]"
      ]
     },
     "execution_count": 33,
     "metadata": {},
     "output_type": "execute_result"
    }
   ],
   "source": [
    "n(range(100))"
   ]
  },
  {
   "cell_type": "code",
   "execution_count": 12,
   "id": "814ce990",
   "metadata": {},
   "outputs": [
    {
     "name": "stdout",
     "output_type": "stream",
     "text": [
      "Hii Asmita,\n",
      "WElcome to python!!!\n"
     ]
    }
   ],
   "source": [
    "#q7 : Try to write a funtion which can perform a read operation from .txt file \n",
    "\n",
    "def read1():\n",
    "    f=open(\"abc.txt\",\"r\")\n",
    "    print(f.read())\n",
    "    f.close()\n",
    "read1()    "
   ]
  },
  {
   "cell_type": "code",
   "execution_count": 10,
   "id": "3b08f432",
   "metadata": {},
   "outputs": [
    {
     "name": "stdout",
     "output_type": "stream",
     "text": [
      "Hii Asmita,\n",
      "\n",
      "WElcome to python!!!\n"
     ]
    }
   ],
   "source": [
    "#q7  : Try to write a funtion which can perform a read operation from .txt file \n",
    "def read2():\n",
    "    f=open(\"abc.txt\",\"r\")\n",
    "    for x in f:\n",
    "        print(x)\n",
    "    f.close()\n",
    "read2()"
   ]
  },
  {
   "cell_type": "code",
   "execution_count": 60,
   "id": "5d83f3e7",
   "metadata": {},
   "outputs": [],
   "source": [
    "#lambda function example\n",
    "#1\n",
    "n=3\n",
    "x= lambda a:(a*n)\n",
    "\n",
    "    "
   ]
  },
  {
   "cell_type": "code",
   "execution_count": 62,
   "id": "71a85260",
   "metadata": {},
   "outputs": [
    {
     "data": {
      "text/plain": [
       "9"
      ]
     },
     "execution_count": 62,
     "metadata": {},
     "output_type": "execute_result"
    }
   ],
   "source": [
    "x(3)"
   ]
  },
  {
   "cell_type": "code",
   "execution_count": 58,
   "id": "2ca34fbd",
   "metadata": {},
   "outputs": [],
   "source": [
    "n=lambda x:[i**3 for i in x]"
   ]
  },
  {
   "cell_type": "code",
   "execution_count": 59,
   "id": "af320fe6",
   "metadata": {},
   "outputs": [
    {
     "data": {
      "text/plain": [
       "[0, 1, 8, 27, 64, 125, 216, 343, 512, 729]"
      ]
     },
     "execution_count": 59,
     "metadata": {},
     "output_type": "execute_result"
    }
   ],
   "source": [
    "n(range(10))"
   ]
  },
  {
   "cell_type": "code",
   "execution_count": null,
   "id": "388f0476",
   "metadata": {},
   "outputs": [],
   "source": []
  },
  {
   "cell_type": "code",
   "execution_count": 18,
   "id": "beb27d34",
   "metadata": {},
   "outputs": [
    {
     "data": {
      "text/plain": [
       "''"
      ]
     },
     "execution_count": 18,
     "metadata": {},
     "output_type": "execute_result"
    }
   ],
   "source": [
    "s=\"Deepak\"\n",
    "s[0:6:-1]"
   ]
  },
  {
   "cell_type": "code",
   "execution_count": 20,
   "id": "b1ce5466",
   "metadata": {},
   "outputs": [
    {
     "data": {
      "text/plain": [
       "'D'"
      ]
     },
     "execution_count": 20,
     "metadata": {},
     "output_type": "execute_result"
    }
   ],
   "source": [
    "s=\"Deepak\"\n",
    "s[0::-1]"
   ]
  },
  {
   "cell_type": "code",
   "execution_count": null,
   "id": "85aa1e85",
   "metadata": {},
   "outputs": [],
   "source": []
  }
 ],
 "metadata": {
  "kernelspec": {
   "display_name": "Python 3",
   "language": "python",
   "name": "python3"
  },
  "language_info": {
   "codemirror_mode": {
    "name": "ipython",
    "version": 3
   },
   "file_extension": ".py",
   "mimetype": "text/x-python",
   "name": "python",
   "nbconvert_exporter": "python",
   "pygments_lexer": "ipython3",
   "version": "3.8.8"
  }
 },
 "nbformat": 4,
 "nbformat_minor": 5
}
